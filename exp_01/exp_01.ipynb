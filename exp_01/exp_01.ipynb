{
 "cells": [
  {
   "cell_type": "code",
   "execution_count": 6,
   "metadata": {},
   "outputs": [
    {
     "name": "stdout",
     "output_type": "stream",
     "text": [
      "NAND Perceptron:\n",
      "Weights: [-0.2 -0.1], Bias: 0.2\n",
      "Predictions: [1 1 1 0]\n",
      "\n",
      "XOR Perceptron:\n",
      "Weights: [-0.1  0. ], Bias: 0.0\n",
      "Predictions: [1 1 0 0]\n"
     ]
    }
   ],
   "source": [
    "import numpy as np\n",
    "\n",
    "# Step function (activation function)\n",
    "def step_function(x):\n",
    "    return 1 if x >= 0 else 0\n",
    "\n",
    "# Perceptron Learning Algorithm\n",
    "def perceptron_learning(X, y, epochs=100, lr=0.1):\n",
    "    num_features = X.shape[1]\n",
    "    weights = np.zeros(num_features)\n",
    "    bias = 0\n",
    "\n",
    "    for epoch in range(epochs):\n",
    "        total_error = 0\n",
    "        for i in range(len(X)):\n",
    "            # Compute weighted sum\n",
    "            weighted_sum = np.dot(X[i], weights) + bias\n",
    "            prediction = step_function(weighted_sum)\n",
    "\n",
    "            # Compute error\n",
    "            error = y[i] - prediction\n",
    "            total_error += abs(error)\n",
    "\n",
    "            # Update weights and bias\n",
    "            weights += lr * error * X[i]\n",
    "            bias += lr * error\n",
    "\n",
    "        # If no error, stop training early\n",
    "        if total_error == 0:\n",
    "            break\n",
    "\n",
    "    return weights, bias\n",
    "\n",
    "# Prediction function\n",
    "def perceptron_predict(X, weights, bias):\n",
    "    return np.array([step_function(np.dot(x, weights) + bias) for x in X])\n",
    "\n",
    "# NAND Truth Table\n",
    "X_nand = np.array([[0,0], [0,1], [1,0], [1,1]])\n",
    "y_nand = np.array([1, 1, 1, 0])  # NAND output\n",
    "\n",
    "# XOR Truth Table\n",
    "X_xor = np.array([[0,0], [0,1], [1,0], [1,1]])\n",
    "y_xor = np.array([0, 1, 1, 0])  # XOR output\n",
    "\n",
    "# Train perceptron on NAND\n",
    "weights_nand, bias_nand = perceptron_learning(X_nand, y_nand)\n",
    "predictions_nand = perceptron_predict(X_nand, weights_nand, bias_nand)\n",
    "\n",
    "# Train perceptron on XOR\n",
    "weights_xor, bias_xor = perceptron_learning(X_xor, y_xor)\n",
    "predictions_xor = perceptron_predict(X_xor, weights_xor, bias_xor)\n",
    "\n",
    "# Print results\n",
    "print(\"NAND Perceptron:\")\n",
    "print(f\"Weights: {weights_nand}, Bias: {bias_nand}\")\n",
    "print(f\"Predictions: {predictions_nand}\")\n",
    "\n",
    "print(\"\\nXOR Perceptron:\")\n",
    "print(f\"Weights: {weights_xor}, Bias: {bias_xor}\")\n",
    "print(f\"Predictions: {predictions_xor}\")\n"
   ]
  }
 ],
 "metadata": {
  "kernelspec": {
   "display_name": "Python 3",
   "language": "python",
   "name": "python3"
  },
  "language_info": {
   "codemirror_mode": {
    "name": "ipython",
    "version": 3
   },
   "file_extension": ".py",
   "mimetype": "text/x-python",
   "name": "python",
   "nbconvert_exporter": "python",
   "pygments_lexer": "ipython3",
   "version": "3.11.4"
  }
 },
 "nbformat": 4,
 "nbformat_minor": 2
}
