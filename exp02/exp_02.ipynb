{
 "cells": [
  {
   "cell_type": "code",
   "execution_count": 1,
   "metadata": {},
   "outputs": [
    {
     "name": "stdout",
     "output_type": "stream",
     "text": [
      "\n",
      "XOR Prediction Results:\n",
      "Input: [0 0] -> Output: 0.0455\n",
      "Input: [0 1] -> Output: 0.9455\n",
      "Input: [1 0] -> Output: 0.9456\n",
      "Input: [1 1] -> Output: 0.0544\n"
     ]
    }
   ],
   "source": [
    "import numpy as np\n",
    "\n",
    "# Sigmoid activation function and its derivative\n",
    "def sigmoid(x):\n",
    "    return 1 / (1 + np.exp(-x))\n",
    "\n",
    "def sigmoid_derivative(x):\n",
    "    return x * (1 - x)  # Derivative of sigmoid\n",
    "\n",
    "# XOR dataset\n",
    "X = np.array([[0,0], [0,1], [1,0], [1,1]])  # Inputs\n",
    "y = np.array([[0], [1], [1], [0]])  # XOR outputs\n",
    "\n",
    "# Initialize weights and biases\n",
    "np.random.seed(1)\n",
    "input_layer_size = 2\n",
    "hidden_layer_size = 2\n",
    "output_layer_size = 1\n",
    "\n",
    "# Randomly initialize weights and biases\n",
    "weights_input_hidden = np.random.uniform(-1, 1, (input_layer_size, hidden_layer_size))\n",
    "weights_hidden_output = np.random.uniform(-1, 1, (hidden_layer_size, output_layer_size))\n",
    "bias_hidden = np.random.uniform(-1, 1, (1, hidden_layer_size))\n",
    "bias_output = np.random.uniform(-1, 1, (1, output_layer_size))\n",
    "\n",
    "# Training parameters\n",
    "epochs = 10000\n",
    "learning_rate = 0.1\n",
    "\n",
    "# Training loop using backpropagation\n",
    "for epoch in range(epochs):\n",
    "    # Forward pass\n",
    "    hidden_layer_input = np.dot(X, weights_input_hidden) + bias_hidden\n",
    "    hidden_layer_output = sigmoid(hidden_layer_input)\n",
    "\n",
    "    final_output_input = np.dot(hidden_layer_output, weights_hidden_output) + bias_output\n",
    "    final_output = sigmoid(final_output_input)\n",
    "\n",
    "    # Compute error\n",
    "    error = y - final_output\n",
    "\n",
    "    # Backpropagation\n",
    "    d_output = error * sigmoid_derivative(final_output)\n",
    "    d_hidden = d_output.dot(weights_hidden_output.T) * sigmoid_derivative(hidden_layer_output)\n",
    "\n",
    "    # Update weights and biases\n",
    "    weights_hidden_output += hidden_layer_output.T.dot(d_output) * learning_rate\n",
    "    bias_output += np.sum(d_output, axis=0, keepdims=True) * learning_rate\n",
    "\n",
    "    weights_input_hidden += X.T.dot(d_hidden) * learning_rate\n",
    "    bias_hidden += np.sum(d_hidden, axis=0, keepdims=True) * learning_rate\n",
    "\n",
    "# Testing the trained MLP\n",
    "hidden_layer_output = sigmoid(np.dot(X, weights_input_hidden) + bias_hidden)\n",
    "final_output = sigmoid(np.dot(hidden_layer_output, weights_hidden_output) + bias_output)\n",
    "\n",
    "# Print results\n",
    "print(\"\\nXOR Prediction Results:\")\n",
    "for i in range(len(X)):\n",
    "    print(f\"Input: {X[i]} -> Output: {final_output[i][0]:.4f}\")\n"
   ]
  }
 ],
 "metadata": {
  "kernelspec": {
   "display_name": "Python 3",
   "language": "python",
   "name": "python3"
  },
  "language_info": {
   "codemirror_mode": {
    "name": "ipython",
    "version": 3
   },
   "file_extension": ".py",
   "mimetype": "text/x-python",
   "name": "python",
   "nbconvert_exporter": "python",
   "pygments_lexer": "ipython3",
   "version": "3.11.4"
  }
 },
 "nbformat": 4,
 "nbformat_minor": 2
}
